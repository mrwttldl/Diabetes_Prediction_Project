{
 "cells": [
  {
   "cell_type": "markdown",
   "metadata": {},
   "source": [
    "### Importing libraries"
   ]
  },
  {
   "cell_type": "code",
   "execution_count": 1,
   "metadata": {},
   "outputs": [],
   "source": [
    "import pandas as pd\n",
    "from sklearn.linear_model import LogisticRegression\n",
    "from sklearn.metrics import accuracy_score, precision_score, recall_score, f1_score, \\\n",
    "    roc_auc_score, confusion_matrix, classification_report, plot_roc_curve\n",
    "from sklearn.model_selection import train_test_split"
   ]
  },
  {
   "cell_type": "code",
   "execution_count": 2,
   "metadata": {},
   "outputs": [],
   "source": [
    "df = pd.read_csv (\"prep_diabetes.csv\")"
   ]
  },
  {
   "cell_type": "markdown",
   "metadata": {},
   "source": [
    "### Load Data Set"
   ]
  },
  {
   "cell_type": "code",
   "execution_count": 4,
   "metadata": {},
   "outputs": [],
   "source": [
    "y = df[\"OUTCOME\"]\n",
    "X = df.drop([\"OUTCOME\"], axis=1)\n",
    "\n",
    "X_train, X_test, y_train, y_test = train_test_split(X,\n",
    "                                                    y,\n",
    "                                                    test_size=0.20, random_state=1)"
   ]
  },
  {
   "cell_type": "code",
   "execution_count": 5,
   "metadata": {},
   "outputs": [
    {
     "data": {
      "text/html": [
       "<div>\n",
       "<style scoped>\n",
       "    .dataframe tbody tr th:only-of-type {\n",
       "        vertical-align: middle;\n",
       "    }\n",
       "\n",
       "    .dataframe tbody tr th {\n",
       "        vertical-align: top;\n",
       "    }\n",
       "\n",
       "    .dataframe thead th {\n",
       "        text-align: right;\n",
       "    }\n",
       "</style>\n",
       "<table border=\"1\" class=\"dataframe\">\n",
       "  <thead>\n",
       "    <tr style=\"text-align: right;\">\n",
       "      <th></th>\n",
       "      <th>Unnamed: 0</th>\n",
       "      <th>PREGNANCIES</th>\n",
       "      <th>GLUCOSE</th>\n",
       "      <th>BLOODPRESSURE</th>\n",
       "      <th>SKINTHICKNESS</th>\n",
       "      <th>INSULIN</th>\n",
       "      <th>BMI</th>\n",
       "      <th>DIABETESPEDIGREEFUNCTION</th>\n",
       "      <th>AGE</th>\n",
       "      <th>NEW_AGE_CAT</th>\n",
       "      <th>...</th>\n",
       "      <th>NEW_BMI_CAT_third degree obese</th>\n",
       "      <th>NEW_BMI_CAT_underweight</th>\n",
       "      <th>NEW_INSULIN_CAT_diabetes</th>\n",
       "      <th>NEW_INSULIN_CAT_low</th>\n",
       "      <th>NEW_INSULIN_CAT_normal</th>\n",
       "      <th>NEW_INSULIN_CAT_risk</th>\n",
       "      <th>BLOODPRESSURE_CAT_0_80</th>\n",
       "      <th>BLOODPRESSURE_CAT_80_90</th>\n",
       "      <th>BLOODPRESSURE_CAT_90_120</th>\n",
       "      <th>BLOODPRESSURE_CAT_120_122</th>\n",
       "    </tr>\n",
       "  </thead>\n",
       "  <tbody>\n",
       "    <tr>\n",
       "      <th>663</th>\n",
       "      <td>663</td>\n",
       "      <td>1.530847</td>\n",
       "      <td>0.766084</td>\n",
       "      <td>0.629077</td>\n",
       "      <td>1.926507</td>\n",
       "      <td>-0.131493</td>\n",
       "      <td>0.794845</td>\n",
       "      <td>0.498693</td>\n",
       "      <td>0.575118</td>\n",
       "      <td>0</td>\n",
       "      <td>...</td>\n",
       "      <td>0</td>\n",
       "      <td>0</td>\n",
       "      <td>0</td>\n",
       "      <td>0</td>\n",
       "      <td>0</td>\n",
       "      <td>1</td>\n",
       "      <td>1</td>\n",
       "      <td>0</td>\n",
       "      <td>0</td>\n",
       "      <td>0</td>\n",
       "    </tr>\n",
       "    <tr>\n",
       "      <th>712</th>\n",
       "      <td>712</td>\n",
       "      <td>1.827813</td>\n",
       "      <td>0.240535</td>\n",
       "      <td>-0.858753</td>\n",
       "      <td>0.788169</td>\n",
       "      <td>0.325460</td>\n",
       "      <td>1.274774</td>\n",
       "      <td>-0.093250</td>\n",
       "      <td>0.404942</td>\n",
       "      <td>0</td>\n",
       "      <td>...</td>\n",
       "      <td>0</td>\n",
       "      <td>0</td>\n",
       "      <td>0</td>\n",
       "      <td>0</td>\n",
       "      <td>0</td>\n",
       "      <td>1</td>\n",
       "      <td>1</td>\n",
       "      <td>0</td>\n",
       "      <td>0</td>\n",
       "      <td>0</td>\n",
       "    </tr>\n",
       "    <tr>\n",
       "      <th>161</th>\n",
       "      <td>161</td>\n",
       "      <td>0.936914</td>\n",
       "      <td>-0.646330</td>\n",
       "      <td>0.133134</td>\n",
       "      <td>1.243504</td>\n",
       "      <td>-0.420704</td>\n",
       "      <td>0.693041</td>\n",
       "      <td>-0.809018</td>\n",
       "      <td>1.000557</td>\n",
       "      <td>0</td>\n",
       "      <td>...</td>\n",
       "      <td>0</td>\n",
       "      <td>0</td>\n",
       "      <td>0</td>\n",
       "      <td>0</td>\n",
       "      <td>0</td>\n",
       "      <td>1</td>\n",
       "      <td>1</td>\n",
       "      <td>0</td>\n",
       "      <td>0</td>\n",
       "      <td>0</td>\n",
       "    </tr>\n",
       "    <tr>\n",
       "      <th>509</th>\n",
       "      <td>509</td>\n",
       "      <td>1.233880</td>\n",
       "      <td>-0.055087</td>\n",
       "      <td>0.463763</td>\n",
       "      <td>-0.236335</td>\n",
       "      <td>-0.449625</td>\n",
       "      <td>-1.081242</td>\n",
       "      <td>-0.189894</td>\n",
       "      <td>2.617224</td>\n",
       "      <td>1</td>\n",
       "      <td>...</td>\n",
       "      <td>0</td>\n",
       "      <td>0</td>\n",
       "      <td>0</td>\n",
       "      <td>0</td>\n",
       "      <td>0</td>\n",
       "      <td>1</td>\n",
       "      <td>1</td>\n",
       "      <td>0</td>\n",
       "      <td>0</td>\n",
       "      <td>0</td>\n",
       "    </tr>\n",
       "    <tr>\n",
       "      <th>305</th>\n",
       "      <td>305</td>\n",
       "      <td>-0.547919</td>\n",
       "      <td>-0.055087</td>\n",
       "      <td>0.298449</td>\n",
       "      <td>0.902003</td>\n",
       "      <td>-0.420704</td>\n",
       "      <td>1.056624</td>\n",
       "      <td>-0.775797</td>\n",
       "      <td>-0.360847</td>\n",
       "      <td>0</td>\n",
       "      <td>...</td>\n",
       "      <td>0</td>\n",
       "      <td>0</td>\n",
       "      <td>0</td>\n",
       "      <td>0</td>\n",
       "      <td>0</td>\n",
       "      <td>1</td>\n",
       "      <td>1</td>\n",
       "      <td>0</td>\n",
       "      <td>0</td>\n",
       "      <td>0</td>\n",
       "    </tr>\n",
       "    <tr>\n",
       "      <th>...</th>\n",
       "      <td>...</td>\n",
       "      <td>...</td>\n",
       "      <td>...</td>\n",
       "      <td>...</td>\n",
       "      <td>...</td>\n",
       "      <td>...</td>\n",
       "      <td>...</td>\n",
       "      <td>...</td>\n",
       "      <td>...</td>\n",
       "      <td>...</td>\n",
       "      <td>...</td>\n",
       "      <td>...</td>\n",
       "      <td>...</td>\n",
       "      <td>...</td>\n",
       "      <td>...</td>\n",
       "      <td>...</td>\n",
       "      <td>...</td>\n",
       "      <td>...</td>\n",
       "      <td>...</td>\n",
       "      <td>...</td>\n",
       "      <td>...</td>\n",
       "    </tr>\n",
       "    <tr>\n",
       "      <th>645</th>\n",
       "      <td>645</td>\n",
       "      <td>-0.547919</td>\n",
       "      <td>1.160247</td>\n",
       "      <td>0.133134</td>\n",
       "      <td>0.674335</td>\n",
       "      <td>3.454722</td>\n",
       "      <td>1.012994</td>\n",
       "      <td>-1.020427</td>\n",
       "      <td>-0.275760</td>\n",
       "      <td>0</td>\n",
       "      <td>...</td>\n",
       "      <td>0</td>\n",
       "      <td>0</td>\n",
       "      <td>1</td>\n",
       "      <td>0</td>\n",
       "      <td>0</td>\n",
       "      <td>0</td>\n",
       "      <td>1</td>\n",
       "      <td>0</td>\n",
       "      <td>0</td>\n",
       "      <td>0</td>\n",
       "    </tr>\n",
       "    <tr>\n",
       "      <th>715</th>\n",
       "      <td>715</td>\n",
       "      <td>0.936914</td>\n",
       "      <td>2.145652</td>\n",
       "      <td>-1.850639</td>\n",
       "      <td>0.446668</td>\n",
       "      <td>2.899437</td>\n",
       "      <td>0.213112</td>\n",
       "      <td>1.069496</td>\n",
       "      <td>0.064591</td>\n",
       "      <td>0</td>\n",
       "      <td>...</td>\n",
       "      <td>0</td>\n",
       "      <td>0</td>\n",
       "      <td>1</td>\n",
       "      <td>0</td>\n",
       "      <td>0</td>\n",
       "      <td>0</td>\n",
       "      <td>1</td>\n",
       "      <td>0</td>\n",
       "      <td>0</td>\n",
       "      <td>0</td>\n",
       "    </tr>\n",
       "    <tr>\n",
       "      <th>72</th>\n",
       "      <td>72</td>\n",
       "      <td>2.718712</td>\n",
       "      <td>0.141994</td>\n",
       "      <td>1.455650</td>\n",
       "      <td>0.332834</td>\n",
       "      <td>0.325460</td>\n",
       "      <td>1.594726</td>\n",
       "      <td>0.335607</td>\n",
       "      <td>0.745293</td>\n",
       "      <td>0</td>\n",
       "      <td>...</td>\n",
       "      <td>0</td>\n",
       "      <td>0</td>\n",
       "      <td>0</td>\n",
       "      <td>0</td>\n",
       "      <td>0</td>\n",
       "      <td>1</td>\n",
       "      <td>0</td>\n",
       "      <td>1</td>\n",
       "      <td>0</td>\n",
       "      <td>0</td>\n",
       "    </tr>\n",
       "    <tr>\n",
       "      <th>235</th>\n",
       "      <td>235</td>\n",
       "      <td>0.046014</td>\n",
       "      <td>1.620102</td>\n",
       "      <td>-0.032180</td>\n",
       "      <td>0.332834</td>\n",
       "      <td>0.325460</td>\n",
       "      <td>1.623813</td>\n",
       "      <td>0.021514</td>\n",
       "      <td>-0.616111</td>\n",
       "      <td>0</td>\n",
       "      <td>...</td>\n",
       "      <td>0</td>\n",
       "      <td>0</td>\n",
       "      <td>0</td>\n",
       "      <td>0</td>\n",
       "      <td>0</td>\n",
       "      <td>1</td>\n",
       "      <td>1</td>\n",
       "      <td>0</td>\n",
       "      <td>0</td>\n",
       "      <td>0</td>\n",
       "    </tr>\n",
       "    <tr>\n",
       "      <th>37</th>\n",
       "      <td>37</td>\n",
       "      <td>1.530847</td>\n",
       "      <td>-0.646330</td>\n",
       "      <td>0.298449</td>\n",
       "      <td>0.902003</td>\n",
       "      <td>0.325460</td>\n",
       "      <td>0.067679</td>\n",
       "      <td>0.583256</td>\n",
       "      <td>1.085644</td>\n",
       "      <td>0</td>\n",
       "      <td>...</td>\n",
       "      <td>0</td>\n",
       "      <td>0</td>\n",
       "      <td>0</td>\n",
       "      <td>0</td>\n",
       "      <td>0</td>\n",
       "      <td>1</td>\n",
       "      <td>1</td>\n",
       "      <td>0</td>\n",
       "      <td>0</td>\n",
       "      <td>0</td>\n",
       "    </tr>\n",
       "  </tbody>\n",
       "</table>\n",
       "<p>614 rows × 35 columns</p>\n",
       "</div>"
      ],
      "text/plain": [
       "     Unnamed: 0  PREGNANCIES   GLUCOSE  BLOODPRESSURE  SKINTHICKNESS  \\\n",
       "663         663     1.530847  0.766084       0.629077       1.926507   \n",
       "712         712     1.827813  0.240535      -0.858753       0.788169   \n",
       "161         161     0.936914 -0.646330       0.133134       1.243504   \n",
       "509         509     1.233880 -0.055087       0.463763      -0.236335   \n",
       "305         305    -0.547919 -0.055087       0.298449       0.902003   \n",
       "..          ...          ...       ...            ...            ...   \n",
       "645         645    -0.547919  1.160247       0.133134       0.674335   \n",
       "715         715     0.936914  2.145652      -1.850639       0.446668   \n",
       "72           72     2.718712  0.141994       1.455650       0.332834   \n",
       "235         235     0.046014  1.620102      -0.032180       0.332834   \n",
       "37           37     1.530847 -0.646330       0.298449       0.902003   \n",
       "\n",
       "      INSULIN       BMI  DIABETESPEDIGREEFUNCTION       AGE  NEW_AGE_CAT  ...  \\\n",
       "663 -0.131493  0.794845                  0.498693  0.575118            0  ...   \n",
       "712  0.325460  1.274774                 -0.093250  0.404942            0  ...   \n",
       "161 -0.420704  0.693041                 -0.809018  1.000557            0  ...   \n",
       "509 -0.449625 -1.081242                 -0.189894  2.617224            1  ...   \n",
       "305 -0.420704  1.056624                 -0.775797 -0.360847            0  ...   \n",
       "..        ...       ...                       ...       ...          ...  ...   \n",
       "645  3.454722  1.012994                 -1.020427 -0.275760            0  ...   \n",
       "715  2.899437  0.213112                  1.069496  0.064591            0  ...   \n",
       "72   0.325460  1.594726                  0.335607  0.745293            0  ...   \n",
       "235  0.325460  1.623813                  0.021514 -0.616111            0  ...   \n",
       "37   0.325460  0.067679                  0.583256  1.085644            0  ...   \n",
       "\n",
       "     NEW_BMI_CAT_third degree obese  NEW_BMI_CAT_underweight  \\\n",
       "663                               0                        0   \n",
       "712                               0                        0   \n",
       "161                               0                        0   \n",
       "509                               0                        0   \n",
       "305                               0                        0   \n",
       "..                              ...                      ...   \n",
       "645                               0                        0   \n",
       "715                               0                        0   \n",
       "72                                0                        0   \n",
       "235                               0                        0   \n",
       "37                                0                        0   \n",
       "\n",
       "     NEW_INSULIN_CAT_diabetes  NEW_INSULIN_CAT_low  NEW_INSULIN_CAT_normal  \\\n",
       "663                         0                    0                       0   \n",
       "712                         0                    0                       0   \n",
       "161                         0                    0                       0   \n",
       "509                         0                    0                       0   \n",
       "305                         0                    0                       0   \n",
       "..                        ...                  ...                     ...   \n",
       "645                         1                    0                       0   \n",
       "715                         1                    0                       0   \n",
       "72                          0                    0                       0   \n",
       "235                         0                    0                       0   \n",
       "37                          0                    0                       0   \n",
       "\n",
       "     NEW_INSULIN_CAT_risk  BLOODPRESSURE_CAT_0_80  BLOODPRESSURE_CAT_80_90  \\\n",
       "663                     1                       1                        0   \n",
       "712                     1                       1                        0   \n",
       "161                     1                       1                        0   \n",
       "509                     1                       1                        0   \n",
       "305                     1                       1                        0   \n",
       "..                    ...                     ...                      ...   \n",
       "645                     0                       1                        0   \n",
       "715                     0                       1                        0   \n",
       "72                      1                       0                        1   \n",
       "235                     1                       1                        0   \n",
       "37                      1                       1                        0   \n",
       "\n",
       "     BLOODPRESSURE_CAT_90_120  BLOODPRESSURE_CAT_120_122  \n",
       "663                         0                          0  \n",
       "712                         0                          0  \n",
       "161                         0                          0  \n",
       "509                         0                          0  \n",
       "305                         0                          0  \n",
       "..                        ...                        ...  \n",
       "645                         0                          0  \n",
       "715                         0                          0  \n",
       "72                          0                          0  \n",
       "235                         0                          0  \n",
       "37                          0                          0  \n",
       "\n",
       "[614 rows x 35 columns]"
      ]
     },
     "execution_count": 5,
     "metadata": {},
     "output_type": "execute_result"
    }
   ],
   "source": [
    "X_train"
   ]
  },
  {
   "cell_type": "code",
   "execution_count": 6,
   "metadata": {},
   "outputs": [
    {
     "data": {
      "text/html": [
       "<div>\n",
       "<style scoped>\n",
       "    .dataframe tbody tr th:only-of-type {\n",
       "        vertical-align: middle;\n",
       "    }\n",
       "\n",
       "    .dataframe tbody tr th {\n",
       "        vertical-align: top;\n",
       "    }\n",
       "\n",
       "    .dataframe thead th {\n",
       "        text-align: right;\n",
       "    }\n",
       "</style>\n",
       "<table border=\"1\" class=\"dataframe\">\n",
       "  <thead>\n",
       "    <tr style=\"text-align: right;\">\n",
       "      <th></th>\n",
       "      <th>Unnamed: 0</th>\n",
       "      <th>PREGNANCIES</th>\n",
       "      <th>GLUCOSE</th>\n",
       "      <th>BLOODPRESSURE</th>\n",
       "      <th>SKINTHICKNESS</th>\n",
       "      <th>INSULIN</th>\n",
       "      <th>BMI</th>\n",
       "      <th>DIABETESPEDIGREEFUNCTION</th>\n",
       "      <th>AGE</th>\n",
       "      <th>NEW_AGE_CAT</th>\n",
       "      <th>...</th>\n",
       "      <th>NEW_BMI_CAT_third degree obese</th>\n",
       "      <th>NEW_BMI_CAT_underweight</th>\n",
       "      <th>NEW_INSULIN_CAT_diabetes</th>\n",
       "      <th>NEW_INSULIN_CAT_low</th>\n",
       "      <th>NEW_INSULIN_CAT_normal</th>\n",
       "      <th>NEW_INSULIN_CAT_risk</th>\n",
       "      <th>BLOODPRESSURE_CAT_0_80</th>\n",
       "      <th>BLOODPRESSURE_CAT_80_90</th>\n",
       "      <th>BLOODPRESSURE_CAT_90_120</th>\n",
       "      <th>BLOODPRESSURE_CAT_120_122</th>\n",
       "    </tr>\n",
       "  </thead>\n",
       "  <tbody>\n",
       "    <tr>\n",
       "      <th>285</th>\n",
       "      <td>285</td>\n",
       "      <td>0.936914</td>\n",
       "      <td>0.470463</td>\n",
       "      <td>0.133134</td>\n",
       "      <td>-0.350169</td>\n",
       "      <td>-0.073651</td>\n",
       "      <td>-0.935809</td>\n",
       "      <td>0.528894</td>\n",
       "      <td>1.511083</td>\n",
       "      <td>0</td>\n",
       "      <td>...</td>\n",
       "      <td>0</td>\n",
       "      <td>0</td>\n",
       "      <td>0</td>\n",
       "      <td>0</td>\n",
       "      <td>0</td>\n",
       "      <td>1</td>\n",
       "      <td>1</td>\n",
       "      <td>0</td>\n",
       "      <td>0</td>\n",
       "      <td>0</td>\n",
       "    </tr>\n",
       "    <tr>\n",
       "      <th>101</th>\n",
       "      <td>101</td>\n",
       "      <td>-0.844885</td>\n",
       "      <td>0.963165</td>\n",
       "      <td>-1.024067</td>\n",
       "      <td>-0.236335</td>\n",
       "      <td>-0.449625</td>\n",
       "      <td>-0.921265</td>\n",
       "      <td>-0.884521</td>\n",
       "      <td>-0.956462</td>\n",
       "      <td>0</td>\n",
       "      <td>...</td>\n",
       "      <td>0</td>\n",
       "      <td>0</td>\n",
       "      <td>0</td>\n",
       "      <td>0</td>\n",
       "      <td>0</td>\n",
       "      <td>1</td>\n",
       "      <td>1</td>\n",
       "      <td>0</td>\n",
       "      <td>0</td>\n",
       "      <td>0</td>\n",
       "    </tr>\n",
       "    <tr>\n",
       "      <th>581</th>\n",
       "      <td>581</td>\n",
       "      <td>0.639947</td>\n",
       "      <td>-0.416402</td>\n",
       "      <td>-1.024067</td>\n",
       "      <td>-0.236335</td>\n",
       "      <td>-0.449625</td>\n",
       "      <td>-1.081242</td>\n",
       "      <td>-0.802978</td>\n",
       "      <td>-0.531023</td>\n",
       "      <td>0</td>\n",
       "      <td>...</td>\n",
       "      <td>0</td>\n",
       "      <td>0</td>\n",
       "      <td>0</td>\n",
       "      <td>0</td>\n",
       "      <td>0</td>\n",
       "      <td>1</td>\n",
       "      <td>1</td>\n",
       "      <td>0</td>\n",
       "      <td>0</td>\n",
       "      <td>0</td>\n",
       "    </tr>\n",
       "    <tr>\n",
       "      <th>352</th>\n",
       "      <td>352</td>\n",
       "      <td>-0.250952</td>\n",
       "      <td>-1.993051</td>\n",
       "      <td>0.794392</td>\n",
       "      <td>-0.122501</td>\n",
       "      <td>-0.449625</td>\n",
       "      <td>0.285829</td>\n",
       "      <td>-0.691234</td>\n",
       "      <td>1.085644</td>\n",
       "      <td>0</td>\n",
       "      <td>...</td>\n",
       "      <td>0</td>\n",
       "      <td>0</td>\n",
       "      <td>0</td>\n",
       "      <td>0</td>\n",
       "      <td>0</td>\n",
       "      <td>1</td>\n",
       "      <td>0</td>\n",
       "      <td>1</td>\n",
       "      <td>0</td>\n",
       "      <td>0</td>\n",
       "    </tr>\n",
       "    <tr>\n",
       "      <th>726</th>\n",
       "      <td>726</td>\n",
       "      <td>-0.844885</td>\n",
       "      <td>-0.186474</td>\n",
       "      <td>0.463763</td>\n",
       "      <td>-0.008667</td>\n",
       "      <td>0.446929</td>\n",
       "      <td>0.533065</td>\n",
       "      <td>0.072856</td>\n",
       "      <td>-0.701198</td>\n",
       "      <td>0</td>\n",
       "      <td>...</td>\n",
       "      <td>0</td>\n",
       "      <td>0</td>\n",
       "      <td>0</td>\n",
       "      <td>0</td>\n",
       "      <td>0</td>\n",
       "      <td>1</td>\n",
       "      <td>1</td>\n",
       "      <td>0</td>\n",
       "      <td>0</td>\n",
       "      <td>0</td>\n",
       "    </tr>\n",
       "    <tr>\n",
       "      <th>...</th>\n",
       "      <td>...</td>\n",
       "      <td>...</td>\n",
       "      <td>...</td>\n",
       "      <td>...</td>\n",
       "      <td>...</td>\n",
       "      <td>...</td>\n",
       "      <td>...</td>\n",
       "      <td>...</td>\n",
       "      <td>...</td>\n",
       "      <td>...</td>\n",
       "      <td>...</td>\n",
       "      <td>...</td>\n",
       "      <td>...</td>\n",
       "      <td>...</td>\n",
       "      <td>...</td>\n",
       "      <td>...</td>\n",
       "      <td>...</td>\n",
       "      <td>...</td>\n",
       "      <td>...</td>\n",
       "      <td>...</td>\n",
       "      <td>...</td>\n",
       "    </tr>\n",
       "    <tr>\n",
       "      <th>563</th>\n",
       "      <td>563</td>\n",
       "      <td>0.639947</td>\n",
       "      <td>-0.744871</td>\n",
       "      <td>-1.024067</td>\n",
       "      <td>-1.147005</td>\n",
       "      <td>-1.010694</td>\n",
       "      <td>-0.804919</td>\n",
       "      <td>0.075877</td>\n",
       "      <td>-0.105584</td>\n",
       "      <td>0</td>\n",
       "      <td>...</td>\n",
       "      <td>0</td>\n",
       "      <td>0</td>\n",
       "      <td>0</td>\n",
       "      <td>1</td>\n",
       "      <td>0</td>\n",
       "      <td>0</td>\n",
       "      <td>1</td>\n",
       "      <td>0</td>\n",
       "      <td>0</td>\n",
       "      <td>0</td>\n",
       "    </tr>\n",
       "    <tr>\n",
       "      <th>318</th>\n",
       "      <td>318</td>\n",
       "      <td>-0.250952</td>\n",
       "      <td>-0.219321</td>\n",
       "      <td>-0.528124</td>\n",
       "      <td>1.129670</td>\n",
       "      <td>-0.015809</td>\n",
       "      <td>0.823931</td>\n",
       "      <td>-0.972105</td>\n",
       "      <td>-0.445935</td>\n",
       "      <td>0</td>\n",
       "      <td>...</td>\n",
       "      <td>0</td>\n",
       "      <td>0</td>\n",
       "      <td>0</td>\n",
       "      <td>0</td>\n",
       "      <td>0</td>\n",
       "      <td>1</td>\n",
       "      <td>1</td>\n",
       "      <td>0</td>\n",
       "      <td>0</td>\n",
       "      <td>0</td>\n",
       "    </tr>\n",
       "    <tr>\n",
       "      <th>154</th>\n",
       "      <td>154</td>\n",
       "      <td>1.233880</td>\n",
       "      <td>2.178499</td>\n",
       "      <td>0.463763</td>\n",
       "      <td>0.332834</td>\n",
       "      <td>0.325460</td>\n",
       "      <td>2.249175</td>\n",
       "      <td>-1.011366</td>\n",
       "      <td>0.830381</td>\n",
       "      <td>0</td>\n",
       "      <td>...</td>\n",
       "      <td>1</td>\n",
       "      <td>0</td>\n",
       "      <td>0</td>\n",
       "      <td>0</td>\n",
       "      <td>0</td>\n",
       "      <td>1</td>\n",
       "      <td>1</td>\n",
       "      <td>0</td>\n",
       "      <td>0</td>\n",
       "      <td>0</td>\n",
       "    </tr>\n",
       "    <tr>\n",
       "      <th>684</th>\n",
       "      <td>684</td>\n",
       "      <td>0.342981</td>\n",
       "      <td>0.470463</td>\n",
       "      <td>0.794392</td>\n",
       "      <td>-0.236335</td>\n",
       "      <td>-0.449625</td>\n",
       "      <td>-0.339533</td>\n",
       "      <td>0.507754</td>\n",
       "      <td>3.042663</td>\n",
       "      <td>1</td>\n",
       "      <td>...</td>\n",
       "      <td>0</td>\n",
       "      <td>0</td>\n",
       "      <td>0</td>\n",
       "      <td>0</td>\n",
       "      <td>0</td>\n",
       "      <td>1</td>\n",
       "      <td>0</td>\n",
       "      <td>1</td>\n",
       "      <td>0</td>\n",
       "      <td>0</td>\n",
       "    </tr>\n",
       "    <tr>\n",
       "      <th>643</th>\n",
       "      <td>643</td>\n",
       "      <td>0.046014</td>\n",
       "      <td>-1.040492</td>\n",
       "      <td>-0.197495</td>\n",
       "      <td>-0.236335</td>\n",
       "      <td>-0.449625</td>\n",
       "      <td>-0.644942</td>\n",
       "      <td>0.417150</td>\n",
       "      <td>-0.190672</td>\n",
       "      <td>0</td>\n",
       "      <td>...</td>\n",
       "      <td>0</td>\n",
       "      <td>0</td>\n",
       "      <td>0</td>\n",
       "      <td>0</td>\n",
       "      <td>0</td>\n",
       "      <td>1</td>\n",
       "      <td>1</td>\n",
       "      <td>0</td>\n",
       "      <td>0</td>\n",
       "      <td>0</td>\n",
       "    </tr>\n",
       "  </tbody>\n",
       "</table>\n",
       "<p>154 rows × 35 columns</p>\n",
       "</div>"
      ],
      "text/plain": [
       "     Unnamed: 0  PREGNANCIES   GLUCOSE  BLOODPRESSURE  SKINTHICKNESS  \\\n",
       "285         285     0.936914  0.470463       0.133134      -0.350169   \n",
       "101         101    -0.844885  0.963165      -1.024067      -0.236335   \n",
       "581         581     0.639947 -0.416402      -1.024067      -0.236335   \n",
       "352         352    -0.250952 -1.993051       0.794392      -0.122501   \n",
       "726         726    -0.844885 -0.186474       0.463763      -0.008667   \n",
       "..          ...          ...       ...            ...            ...   \n",
       "563         563     0.639947 -0.744871      -1.024067      -1.147005   \n",
       "318         318    -0.250952 -0.219321      -0.528124       1.129670   \n",
       "154         154     1.233880  2.178499       0.463763       0.332834   \n",
       "684         684     0.342981  0.470463       0.794392      -0.236335   \n",
       "643         643     0.046014 -1.040492      -0.197495      -0.236335   \n",
       "\n",
       "      INSULIN       BMI  DIABETESPEDIGREEFUNCTION       AGE  NEW_AGE_CAT  ...  \\\n",
       "285 -0.073651 -0.935809                  0.528894  1.511083            0  ...   \n",
       "101 -0.449625 -0.921265                 -0.884521 -0.956462            0  ...   \n",
       "581 -0.449625 -1.081242                 -0.802978 -0.531023            0  ...   \n",
       "352 -0.449625  0.285829                 -0.691234  1.085644            0  ...   \n",
       "726  0.446929  0.533065                  0.072856 -0.701198            0  ...   \n",
       "..        ...       ...                       ...       ...          ...  ...   \n",
       "563 -1.010694 -0.804919                  0.075877 -0.105584            0  ...   \n",
       "318 -0.015809  0.823931                 -0.972105 -0.445935            0  ...   \n",
       "154  0.325460  2.249175                 -1.011366  0.830381            0  ...   \n",
       "684 -0.449625 -0.339533                  0.507754  3.042663            1  ...   \n",
       "643 -0.449625 -0.644942                  0.417150 -0.190672            0  ...   \n",
       "\n",
       "     NEW_BMI_CAT_third degree obese  NEW_BMI_CAT_underweight  \\\n",
       "285                               0                        0   \n",
       "101                               0                        0   \n",
       "581                               0                        0   \n",
       "352                               0                        0   \n",
       "726                               0                        0   \n",
       "..                              ...                      ...   \n",
       "563                               0                        0   \n",
       "318                               0                        0   \n",
       "154                               1                        0   \n",
       "684                               0                        0   \n",
       "643                               0                        0   \n",
       "\n",
       "     NEW_INSULIN_CAT_diabetes  NEW_INSULIN_CAT_low  NEW_INSULIN_CAT_normal  \\\n",
       "285                         0                    0                       0   \n",
       "101                         0                    0                       0   \n",
       "581                         0                    0                       0   \n",
       "352                         0                    0                       0   \n",
       "726                         0                    0                       0   \n",
       "..                        ...                  ...                     ...   \n",
       "563                         0                    1                       0   \n",
       "318                         0                    0                       0   \n",
       "154                         0                    0                       0   \n",
       "684                         0                    0                       0   \n",
       "643                         0                    0                       0   \n",
       "\n",
       "     NEW_INSULIN_CAT_risk  BLOODPRESSURE_CAT_0_80  BLOODPRESSURE_CAT_80_90  \\\n",
       "285                     1                       1                        0   \n",
       "101                     1                       1                        0   \n",
       "581                     1                       1                        0   \n",
       "352                     1                       0                        1   \n",
       "726                     1                       1                        0   \n",
       "..                    ...                     ...                      ...   \n",
       "563                     0                       1                        0   \n",
       "318                     1                       1                        0   \n",
       "154                     1                       1                        0   \n",
       "684                     1                       0                        1   \n",
       "643                     1                       1                        0   \n",
       "\n",
       "     BLOODPRESSURE_CAT_90_120  BLOODPRESSURE_CAT_120_122  \n",
       "285                         0                          0  \n",
       "101                         0                          0  \n",
       "581                         0                          0  \n",
       "352                         0                          0  \n",
       "726                         0                          0  \n",
       "..                        ...                        ...  \n",
       "563                         0                          0  \n",
       "318                         0                          0  \n",
       "154                         0                          0  \n",
       "684                         0                          0  \n",
       "643                         0                          0  \n",
       "\n",
       "[154 rows x 35 columns]"
      ]
     },
     "execution_count": 6,
     "metadata": {},
     "output_type": "execute_result"
    }
   ],
   "source": [
    "X_test"
   ]
  },
  {
   "cell_type": "code",
   "execution_count": 7,
   "metadata": {},
   "outputs": [
    {
     "data": {
      "text/plain": [
       "663    1\n",
       "712    1\n",
       "161    0\n",
       "509    0\n",
       "305    0\n",
       "      ..\n",
       "645    0\n",
       "715    1\n",
       "72     1\n",
       "235    1\n",
       "37     1\n",
       "Name: OUTCOME, Length: 614, dtype: int64"
      ]
     },
     "execution_count": 7,
     "metadata": {},
     "output_type": "execute_result"
    }
   ],
   "source": [
    "y_train"
   ]
  },
  {
   "cell_type": "code",
   "execution_count": 8,
   "metadata": {},
   "outputs": [
    {
     "data": {
      "text/plain": [
       "285    0\n",
       "101    0\n",
       "581    0\n",
       "352    0\n",
       "726    0\n",
       "      ..\n",
       "563    0\n",
       "318    0\n",
       "154    1\n",
       "684    0\n",
       "643    0\n",
       "Name: OUTCOME, Length: 154, dtype: int64"
      ]
     },
     "execution_count": 8,
     "metadata": {},
     "output_type": "execute_result"
    }
   ],
   "source": [
    "y_test"
   ]
  },
  {
   "cell_type": "markdown",
   "metadata": {},
   "source": [
    "### Model"
   ]
  },
  {
   "cell_type": "code",
   "execution_count": 9,
   "metadata": {},
   "outputs": [
    {
     "name": "stderr",
     "output_type": "stream",
     "text": [
      "/Applications/anaconda3/lib/python3.8/site-packages/sklearn/linear_model/_logistic.py:762: ConvergenceWarning: lbfgs failed to converge (status=1):\n",
      "STOP: TOTAL NO. of ITERATIONS REACHED LIMIT.\n",
      "\n",
      "Increase the number of iterations (max_iter) or scale the data as shown in:\n",
      "    https://scikit-learn.org/stable/modules/preprocessing.html\n",
      "Please also refer to the documentation for alternative solver options:\n",
      "    https://scikit-learn.org/stable/modules/linear_model.html#logistic-regression\n",
      "  n_iter_i = _check_optimize_result(\n"
     ]
    }
   ],
   "source": [
    "log_model = LogisticRegression().fit(X_train, y_train)"
   ]
  },
  {
   "cell_type": "code",
   "execution_count": 10,
   "metadata": {},
   "outputs": [
    {
     "data": {
      "text/plain": [
       "array([-0.31094397])"
      ]
     },
     "execution_count": 10,
     "metadata": {},
     "output_type": "execute_result"
    }
   ],
   "source": [
    "log_model.intercept_"
   ]
  },
  {
   "cell_type": "code",
   "execution_count": 11,
   "metadata": {},
   "outputs": [
    {
     "data": {
      "text/plain": [
       "array([[-8.41201504e-04,  4.32669446e-02,  7.97473837e-01,\n",
       "        -6.89514191e-02,  3.81105273e-01,  1.02477561e+00,\n",
       "         4.62552120e-01,  1.82350832e-01,  1.75960087e-01,\n",
       "        -3.72348539e-01, -5.35517948e-01, -5.40225251e-03,\n",
       "         2.48691791e-01, -3.74742009e-01,  3.63584040e-02,\n",
       "         4.16890291e-01, -1.82216764e-01, -1.63605040e-01,\n",
       "        -5.13214846e-02,  7.70482797e-02, -1.46111876e-01,\n",
       "         3.35034347e-01, -5.48835523e-01,  2.83091326e-01,\n",
       "        -2.04992150e-01, -1.06334794e-01, -2.52783222e-02,\n",
       "        -1.12265564e+00, -1.18521322e-01,  2.36180055e-01,\n",
       "         7.37681786e-01, -1.58154538e-01,  1.68480992e-02,\n",
       "        -1.18318199e-01, -7.69047872e-03]])"
      ]
     },
     "execution_count": 11,
     "metadata": {},
     "output_type": "execute_result"
    }
   ],
   "source": [
    "log_model.coef_"
   ]
  },
  {
   "cell_type": "markdown",
   "metadata": {},
   "source": [
    "### Prediction"
   ]
  },
  {
   "cell_type": "code",
   "execution_count": 12,
   "metadata": {},
   "outputs": [
    {
     "data": {
      "text/plain": [
       "663    1\n",
       "712    1\n",
       "161    0\n",
       "509    0\n",
       "305    0\n",
       "426    0\n",
       "13     1\n",
       "480    1\n",
       "682    0\n",
       "607    0\n",
       "Name: OUTCOME, dtype: int64"
      ]
     },
     "execution_count": 12,
     "metadata": {},
     "output_type": "execute_result"
    }
   ],
   "source": [
    "y_pred = log_model.predict(X_train)\n",
    "y_pred[0:10]\n",
    "y_train[0:10]"
   ]
  },
  {
   "cell_type": "code",
   "execution_count": 13,
   "metadata": {},
   "outputs": [
    {
     "data": {
      "text/plain": [
       "array([[0.25004506, 0.74995494],\n",
       "       [0.27128119, 0.72871881],\n",
       "       [0.51673472, 0.48326528],\n",
       "       [0.81266489, 0.18733511],\n",
       "       [0.73834702, 0.26165298],\n",
       "       [0.91017369, 0.08982631],\n",
       "       [0.00577438, 0.99422562],\n",
       "       [0.3672298 , 0.6327702 ],\n",
       "       [0.81297048, 0.18702952],\n",
       "       [0.99757695, 0.00242305]])"
      ]
     },
     "execution_count": 13,
     "metadata": {},
     "output_type": "execute_result"
    }
   ],
   "source": [
    "log_model.predict_proba(X_train)[0:10]"
   ]
  },
  {
   "cell_type": "code",
   "execution_count": 14,
   "metadata": {},
   "outputs": [],
   "source": [
    "y_prob = log_model.predict_proba(X_train)[:, 1]"
   ]
  },
  {
   "cell_type": "markdown",
   "metadata": {},
   "source": [
    "### Success Evaluation"
   ]
  },
  {
   "cell_type": "code",
   "execution_count": 15,
   "metadata": {},
   "outputs": [
    {
     "data": {
      "text/plain": [
       "0.8273615635179153"
      ]
     },
     "execution_count": 15,
     "metadata": {},
     "output_type": "execute_result"
    }
   ],
   "source": [
    "y_pred = log_model.predict(X_train)\n",
    "accuracy_score(y_train, y_pred)"
   ]
  },
  {
   "cell_type": "code",
   "execution_count": 16,
   "metadata": {},
   "outputs": [],
   "source": [
    "y_prob = log_model.predict_proba(X_test)[:, 1]"
   ]
  },
  {
   "cell_type": "code",
   "execution_count": 17,
   "metadata": {},
   "outputs": [],
   "source": [
    "y_pred = log_model.predict(X_test)"
   ]
  },
  {
   "cell_type": "code",
   "execution_count": 20,
   "metadata": {},
   "outputs": [
    {
     "data": {
      "image/png": "[encoded data removed]",
      "text/plain": [
       "<Figure size 432x288 with 2 Axes>"
      ]
     },
     "metadata": {
      "needs_background": "light"
     },
     "output_type": "display_data"
    }
   ],
   "source": [
    "import seaborn as sns\n",
    "import matplotlib.pyplot as plt\n",
    "def plot_confusion_matrix(y, y_pred):\n",
    "    acc = round(accuracy_score(y, y_pred), 2)\n",
    "    cm = confusion_matrix(y, y_pred)\n",
    "    sns.heatmap(cm, annot=True, fmt=\".0f\")\n",
    "    plt.xlabel('y_pred')\n",
    "    plt.ylabel('y')\n",
    "    plt.title('Accuracy Score: {0}'.format(acc), size=10)\n",
    "    plt.show()\n",
    "\n",
    "plot_confusion_matrix(y_test, y_pred)"
   ]
  },
  {
   "cell_type": "code",
   "execution_count": 21,
   "metadata": {},
   "outputs": [
    {
     "data": {
      "text/plain": [
       "0.8311688311688312"
      ]
     },
     "execution_count": 21,
     "metadata": {},
     "output_type": "execute_result"
    }
   ],
   "source": [
    "# ACCURACY\n",
    "accuracy_score(y_test, y_pred)"
   ]
  },
  {
   "cell_type": "code",
   "execution_count": 22,
   "metadata": {},
   "outputs": [
    {
     "data": {
      "text/plain": [
       "0.7843137254901961"
      ]
     },
     "execution_count": 22,
     "metadata": {},
     "output_type": "execute_result"
    }
   ],
   "source": [
    "# PRECISION\n",
    "precision_score(y_test, y_pred)"
   ]
  },
  {
   "cell_type": "code",
   "execution_count": 23,
   "metadata": {},
   "outputs": [
    {
     "data": {
      "text/plain": [
       "0.7272727272727273"
      ]
     },
     "execution_count": 23,
     "metadata": {},
     "output_type": "execute_result"
    }
   ],
   "source": [
    "# RECALL\n",
    "recall_score(y_test, y_pred)"
   ]
  },
  {
   "cell_type": "code",
   "execution_count": 24,
   "metadata": {},
   "outputs": [
    {
     "data": {
      "text/plain": [
       "0.7547169811320754"
      ]
     },
     "execution_count": 24,
     "metadata": {},
     "output_type": "execute_result"
    }
   ],
   "source": [
    "# F1\n",
    "f1_score(y_test, y_pred)"
   ]
  },
  {
   "cell_type": "code",
   "execution_count": 25,
   "metadata": {},
   "outputs": [
    {
     "data": {
      "image/png": "[encoded data removed]",
      "text/plain": [
       "<Figure size 432x288 with 1 Axes>"
      ]
     },
     "metadata": {
      "needs_background": "light"
     },
     "output_type": "display_data"
    }
   ],
   "source": [
    "# ROC CURVE\n",
    "plot_roc_curve(log_model, X_test, y_test)\n",
    "plt.title('ROC Curve')\n",
    "plt.plot([0, 1], [0, 1], 'r--')\n",
    "plt.show()"
   ]
  },
  {
   "cell_type": "code",
   "execution_count": 26,
   "metadata": {},
   "outputs": [
    {
     "data": {
      "text/plain": [
       "0.9105601469237833"
      ]
     },
     "execution_count": 26,
     "metadata": {},
     "output_type": "execute_result"
    }
   ],
   "source": [
    "# AUC\n",
    "roc_auc_score(y_test, y_prob)"
   ]
  },
  {
   "cell_type": "code",
   "execution_count": 27,
   "metadata": {},
   "outputs": [
    {
     "name": "stdout",
     "output_type": "stream",
     "text": [
      "              precision    recall  f1-score   support\n",
      "\n",
      "           0       0.85      0.89      0.87        99\n",
      "           1       0.78      0.73      0.75        55\n",
      "\n",
      "    accuracy                           0.83       154\n",
      "   macro avg       0.82      0.81      0.81       154\n",
      "weighted avg       0.83      0.83      0.83       154\n",
      "\n"
     ]
    }
   ],
   "source": [
    "print(classification_report(y_test, y_pred))"
   ]
  },
  {
   "cell_type": "code",
   "execution_count": null,
   "metadata": {},
   "outputs": [],
   "source": []
  }
 ],
 "metadata": {
  "kernelspec": {
   "display_name": "Python 3",
   "language": "python",
   "name": "python3"
  },
  "language_info": {
   "codemirror_mode": {
    "name": "ipython",
    "version": 3
   },
   "file_extension": ".py",
   "mimetype": "text/x-python",
   "name": "python",
   "nbconvert_exporter": "python",
   "pygments_lexer": "ipython3",
   "version": "3.8.5"
  }
 },
 "nbformat": 4,
 "nbformat_minor": 4
}
